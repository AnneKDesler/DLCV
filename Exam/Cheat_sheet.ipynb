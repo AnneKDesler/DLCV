{
 "cells": [
  {
   "cell_type": "code",
   "execution_count": 2,
   "metadata": {},
   "outputs": [],
   "source": [
    "import numpy as np\n",
    "from tqdm.notebook import tqdm\n",
    "import torch\n",
    "import torch.nn as nn\n",
    "import torch.nn.functional as F\n",
    "import torchvision.datasets as datasets\n",
    "from torch.utils.data import DataLoader\n",
    "import torchvision.transforms as transforms\n",
    "from IPython import display\n",
    "import matplotlib.pylab as plt\n",
    "import ipywidgets"
   ]
  },
  {
   "attachments": {},
   "cell_type": "markdown",
   "metadata": {},
   "source": [
    "Convolution"
   ]
  },
  {
   "cell_type": "code",
   "execution_count": 3,
   "metadata": {},
   "outputs": [],
   "source": [
    "# apply a convolutional kernel to an image matrix\n",
    "def convolve2d(X, W):\n",
    "    h, w = X.shape\n",
    "    m, n = W.shape\n",
    "    Y = np.zeros((h-m+1, w-n+1))\n",
    "    for i in range(h-m+1):\n",
    "        for j in range(w-n+1):\n",
    "            Y[i][j] = np.sum(X[i:i+m, j:j+n]*W)\n",
    "    return Y\n"
   ]
  },
  {
   "cell_type": "code",
   "execution_count": 4,
   "metadata": {},
   "outputs": [
    {
     "name": "stdout",
     "output_type": "stream",
     "text": [
      "[[8. 8. 8.]\n",
      " [8. 8. 8.]\n",
      " [8. 8. 8.]]\n"
     ]
    }
   ],
   "source": [
    "X = np.array([[1, 2, 3, 4, 5], [6, 7, 8, 9, 10], [6, 7, 8, 9, 10], [16, 17, 18, 19, 20], [21, 22, 23, 24, 25]])\n",
    "W = np.array([[-1, 0, 1], [-2, 0, 2], [-1, 0, 1]])\n",
    "Y = convolve2d(X, W)\n",
    "print(Y)"
   ]
  },
  {
   "attachments": {},
   "cell_type": "markdown",
   "metadata": {},
   "source": [
    "Output dimension of convolution layer"
   ]
  },
  {
   "cell_type": "code",
   "execution_count": 9,
   "metadata": {},
   "outputs": [],
   "source": [
    "# make a function that outputs the dimensions of the output of a convolutional layer\n",
    "def conv_output_shape(h,w, kernel_size=1, stride=1, pad=0, dilation=1):\n",
    "    from math import floor\n",
    "    if type(kernel_size) is not tuple:\n",
    "        kernel_size = (kernel_size, kernel_size)\n",
    "    h_out = floor(((h + (2 * pad) - (dilation * (kernel_size[0] - 1)) - 1) / stride) + 1)\n",
    "    w_out = floor(((w + (2 * pad) - (dilation * (kernel_size[0] - 1)) - 1) / stride) + 1)\n",
    "    return h_out, w_out"
   ]
  },
  {
   "cell_type": "code",
   "execution_count": 26,
   "metadata": {},
   "outputs": [
    {
     "name": "stdout",
     "output_type": "stream",
     "text": [
      "5 5\n",
      "5 5\n",
      "3 3\n"
     ]
    }
   ],
   "source": [
    "h = X.shape[0]\n",
    "w = X.shape[1]\n",
    "h_out, w_out = conv_output_shape(h,w, kernel_size=1, stride=1, pad=0, dilation=1)\n",
    "print(h_out, w_out)\n",
    "\n",
    "h_out, w_out = conv_output_shape(h,w, kernel_size=3, stride=1, pad=1, dilation=1)\n",
    "print(h_out, w_out)\n",
    "\n",
    "h_out, w_out = conv_output_shape(6,6, kernel_size=2, stride=2, pad=0, dilation=1)\n",
    "print(h_out, w_out)"
   ]
  },
  {
   "attachments": {},
   "cell_type": "markdown",
   "metadata": {},
   "source": [
    "Reseptive field virker ikke!"
   ]
  },
  {
   "cell_type": "code",
   "execution_count": 22,
   "metadata": {},
   "outputs": [],
   "source": [
    "#Make a function that can determinate the reseptive field of a given pixel (x,y), given a list of kernel sizes, strides, paddings and dilations and number of layers\n",
    "# and return the receptive field of the pixel (x,y) as min_x, min_y, max_x, max_y \n",
    "# such that the reseptive field of the pixel (x,y) is the rectangle with corners (min_x, min_y) and (max_x, max_y)\n",
    "def receptive_field(x,y,kernel_size, stride, padding, dilation, layers):\n",
    "    from math import floor\n",
    "    if type(kernel_size) is not list:\n",
    "        kernel_size = [kernel_size]*layers\n",
    "    if type(stride) is not list:\n",
    "        stride = [stride]*layers\n",
    "    if type(padding) is not list:\n",
    "        padding = [padding]*layers\n",
    "    if type(dilation) is not list:\n",
    "        dilation = [dilation]*layers\n",
    "    if len(kernel_size) != layers or len(stride) != layers or len(padding) != layers or len(dilation) != layers:\n",
    "        print(\"Error: The number of layers does not match the number of kernel sizes, strides, paddings and dilations\")\n",
    "        return\n",
    "    min_x = x\n",
    "    min_y = y\n",
    "    max_x = x\n",
    "    max_y = y\n",
    "    for i in range(layers):\n",
    "        min_x = floor((min_x - 1) * stride[i] - 2 * padding[i] + dilation[i] * (kernel_size[i] - 1) + 1)\n",
    "        min_y = floor((min_y - 1) * stride[i] - 2 * padding[i] + dilation[i] * (kernel_size[i] - 1) + 1)\n",
    "        max_x = floor((max_x - 1) * stride[i] - 2 * padding[i] + dilation[i] * (kernel_size[i] - 1) + 1)\n",
    "        max_y = floor((max_y - 1) * stride[i] - 2 * padding[i] + dilation[i] * (kernel_size[i] - 1) + 1)\n",
    "    return min_x, min_y, max_x, max_y\n",
    "\n",
    "    "
   ]
  },
  {
   "cell_type": "code",
   "execution_count": 24,
   "metadata": {},
   "outputs": [
    {
     "name": "stdout",
     "output_type": "stream",
     "text": [
      "(5, 7, 5, 7)\n",
      "(1, 2, 1, 2)\n"
     ]
    }
   ],
   "source": [
    "rf = receptive_field(1,2,kernel_size=[3,3], stride=[1,2], padding=[0,1], dilation=[1,1], layers=2)\n",
    "print(rf)\n",
    "rf = receptive_field(1,2,kernel_size=[3], stride=[1], padding=[1], dilation=[1], layers=1)\n",
    "print(rf)"
   ]
  },
  {
   "cell_type": "code",
   "execution_count": null,
   "metadata": {},
   "outputs": [],
   "source": []
  }
 ],
 "metadata": {
  "kernelspec": {
   "display_name": "DLCV",
   "language": "python",
   "name": "python3"
  },
  "language_info": {
   "codemirror_mode": {
    "name": "ipython",
    "version": 3
   },
   "file_extension": ".py",
   "mimetype": "text/x-python",
   "name": "python",
   "nbconvert_exporter": "python",
   "pygments_lexer": "ipython3",
   "version": "3.10.11"
  },
  "orig_nbformat": 4
 },
 "nbformat": 4,
 "nbformat_minor": 2
}
